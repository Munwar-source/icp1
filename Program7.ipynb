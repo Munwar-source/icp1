{
  "nbformat": 4,
  "nbformat_minor": 0,
  "metadata": {
    "colab": {
      "provenance": []
    },
    "kernelspec": {
      "name": "python3",
      "display_name": "Python 3"
    },
    "language_info": {
      "name": "python"
    }
  },
  "cells": [
    {
      "cell_type": "code",
      "execution_count": null,
      "metadata": {
        "colab": {
          "base_uri": "https://localhost:8080/"
        },
        "id": "ApJS9O7OuwlQ",
        "outputId": "2d727886-a06b-42e3-83bf-0d5eeb945774"
      },
      "outputs": [
        {
          "output_type": "stream",
          "name": "stdout",
          "text": [
            "Enter the string 'Python' as a list of characters: python\n",
            "Reversed string: noyp\n",
            "Enter the first number: 3\n",
            "Enter the second number: 6\n",
            "Result 1 (addition): 9.0\n",
            "Result 2 (subtraction): -3.0\n",
            "Result 3 (multiplication): 18.0\n",
            "Result 4 (division): 0.5\n"
          ]
        }
      ],
      "source": [
        "char_list = list(input(\"Enter the string 'Python' as a list of characters: \"))\n",
        "del char_list[2:4]\n",
        "reversed_str = \"\".join(reversed(char_list))\n",
        "print(\"Reversed string:\", reversed_str)\n",
        "num1 = float(input(\"Enter the first number: \"))\n",
        "num2 = float(input(\"Enter the second number: \"))\n",
        "result1 = num1 + num2\n",
        "result2 = num1 - num2\n",
        "result3 = num1 * num2\n",
        "result4 = num1 / num2\n",
        "print(\"Result 1 (addition):\", result1)\n",
        "print(\"Result 2 (subtraction):\", result2)\n",
        "print(\"Result 3 (multiplication):\", result3)\n",
        "print(\"Result 4 (division):\", result4)"
      ]
    },
    {
      "cell_type": "code",
      "source": [
        "sentence = input(\"Enter a sentence: \")\n",
        "new_sentence = sentence.lower().replace('python', 'pythons')\n",
        "print(\"Modified sentence:\", new_sentence)"
      ],
      "metadata": {
        "colab": {
          "base_uri": "https://localhost:8080/"
        },
        "id": "09y_d58axWPf",
        "outputId": "2acf8c77-3c12-4852-ea02-355f0ce903df"
      },
      "execution_count": 2,
      "outputs": [
        {
          "output_type": "stream",
          "name": "stdout",
          "text": [
            "Enter a sentence: I LOVE python\n",
            "Modified sentence: i love pythons\n"
          ]
        }
      ]
    },
    {
      "cell_type": "code",
      "source": [
        "class_score = float(input(\"Enter your class score (out of 100): \"))\n",
        "if class_score >= 90:\n",
        "    letter_grade = \"A\"\n",
        "elif class_score >= 80:\n",
        "    letter_grade = \"B\"\n",
        "elif class_score >= 70:\n",
        "    letter_grade = \"C\"\n",
        "elif class_score >= 60:\n",
        "    letter_grade = \"D\"\n",
        "else:\n",
        "    letter_grade = \"F\"\n",
        "print(\"Your letter grade is:\", letter_grade)"
      ],
      "metadata": {
        "colab": {
          "base_uri": "https://localhost:8080/"
        },
        "id": "3b5efQGb1Acc",
        "outputId": "0a6cc44f-aec2-4907-bc36-244551140dfa"
      },
      "execution_count": 1,
      "outputs": [
        {
          "output_type": "stream",
          "name": "stdout",
          "text": [
            "Enter your class score (out of 100): 89\n",
            "Your letter grade is: B\n"
          ]
        }
      ]
    }
  ]
}